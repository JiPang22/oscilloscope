{
 "cells": [
  {
   "cell_type": "code",
   "execution_count": 5,
   "metadata": {},
   "outputs": [
    {
     "data": {
      "text/plain": [
       "<bound method NDFrame.head of            3.46E-08  0.0675016\n",
       "0      8.460000e-08   0.076341\n",
       "1      1.350000e-07   0.087389\n",
       "2      1.850000e-07   0.076341\n",
       "3      2.350000e-07   0.078550\n",
       "4      2.850000e-07   0.076341\n",
       "...             ...        ...\n",
       "69995  3.499835e-03   0.069711\n",
       "69996  3.499885e-03   0.078550\n",
       "69997  3.499935e-03   0.074131\n",
       "69998  3.499985e-03   0.071921\n",
       "69999  3.500035e-03   0.076341\n",
       "\n",
       "[70000 rows x 2 columns]>"
      ]
     },
     "execution_count": 5,
     "metadata": {},
     "output_type": "execute_result"
    }
   ],
   "source": [
    "import pandas as pd\n",
    "\n",
    "file_path = 'wave.csv'\n",
    "df = pd.read_csv(file_path)\n",
    "df.head"
   ]
  },
  {
   "cell_type": "code",
   "execution_count": null,
   "metadata": {},
   "outputs": [],
   "source": []
  }
 ],
 "metadata": {
  "kernelspec": {
   "display_name": "base",
   "language": "python",
   "name": "python3"
  },
  "language_info": {
   "codemirror_mode": {
    "name": "ipython",
    "version": 3
   },
   "file_extension": ".py",
   "mimetype": "text/x-python",
   "name": "python",
   "nbconvert_exporter": "python",
   "pygments_lexer": "ipython3",
   "version": "3.12.4"
  }
 },
 "nbformat": 4,
 "nbformat_minor": 2
}
